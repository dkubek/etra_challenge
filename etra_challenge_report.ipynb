{
 "cells": [
  {
   "cell_type": "raw",
   "metadata": {},
   "source": [
    "title: \"ETRA Challenge Report\"\n",
    "author: Dávid Kubek\n",
    "date: \"{{ datetime.now().strftime('%Y-%m-%d') }}\"\n",
    "output:\n",
    "    general:\n",
    "        input: false\n",
    "    html:\n",
    "        toc: true\n",
    "        theme: sandstone"
   ]
  },
  {
   "cell_type": "markdown",
   "metadata": {},
   "source": [
    "# ETRA Challenge Report"
   ]
  },
  {
   "cell_type": "markdown",
   "metadata": {
    "collapsed": false
   },
   "source": [
    "# Setup"
   ]
  },
  {
   "cell_type": "code",
   "execution_count": 150,
   "metadata": {},
   "outputs": [
    {
     "name": "stderr",
     "output_type": "stream",
     "text": [
      "WARNING (pytensor.tensor.blas): Using NumPy C-API based implementation for BLAS functions.\n"
     ]
    }
   ],
   "source": [
    "# Import libraries\n",
    "import pandas as pd\n",
    "import numpy as np\n",
    "import seaborn as sns\n",
    "import scipy.stats as stats\n",
    "import matplotlib.pyplot as plt\n",
    "import missingno as msno\n",
    "import pymc as pm\n",
    "\n",
    "# classes for special types\n",
    "from pandas.api.types import CategoricalDtype\n",
    "from scipy.sparse._data import _data_matrix\n",
    "\n",
    "# Apply the default theme\n",
    "sns.set_theme()"
   ]
  },
  {
   "cell_type": "code",
   "execution_count": 35,
   "metadata": {},
   "outputs": [
    {
     "name": "stdout",
     "output_type": "stream",
     "text": [
      "The pretty_jupyter extension is already loaded. To reload it, use:\n",
      "  %reload_ext pretty_jupyter\n"
     ]
    }
   ],
   "source": [
    "# @formatter:off\n",
    "%matplotlib inline\n",
    "# should enable plotting without explicit call .show()\n",
    "\n",
    "%load_ext pretty_jupyter\n",
    "#@formatter:on"
   ]
  },
  {
   "cell_type": "markdown",
   "metadata": {
    "collapsed": false
   },
   "source": [
    "## Downloading data\n",
    "\n",
    "Download zip file from the web page. Description of the dataset is on the page [ETRA dataset description](https://etra.acm.org/2019/challenge.html)"
   ]
  },
  {
   "cell_type": "code",
   "execution_count": 36,
   "metadata": {
    "collapsed": false
   },
   "outputs": [
    {
     "name": "stderr",
     "output_type": "stream",
     "text": [
      "Dataset etra already downloaded.\n",
      "Unpacking etra...\n"
     ]
    }
   ],
   "source": [
    "from etra import ETRA\n",
    "\n",
    "dataset = ETRA()"
   ]
  },
  {
   "cell_type": "markdown",
   "metadata": {
    "collapsed": false
   },
   "source": [
    "The directory ``data`` should therefore contain following directories/files\n",
    "\n",
    "- data\n",
    "- images\n",
    "- DataSummary.csv"
   ]
  },
  {
   "cell_type": "markdown",
   "metadata": {
    "collapsed": false
   },
   "source": [
    "## Load Data"
   ]
  },
  {
   "cell_type": "code",
   "execution_count": 37,
   "metadata": {
    "collapsed": false
   },
   "outputs": [],
   "source": [
    "from etra import read_data\n",
    "\n",
    "subject_no = 22\n",
    "fix_puzzle_files = (dataset.data_dir / \"data\" / \"{0:0>3}\".format(subject_no)).glob(\"*Fixation_Puzzle_*.csv\")\n",
    "df_fix_puzzle = pd.concat((read_data(f) for f in fix_puzzle_files)).sort_values(by=\"Time\")\n",
    "\n",
    "fix_waldo_files = (dataset.data_dir / \"data\" / \"{0:0>3}\".format(subject_no)).glob(\"*Fixation_Waldo_*.csv\")\n",
    "df_fix_waldo = pd.concat((read_data(f) for f in fix_waldo_files)).sort_values(by=\"Time\")\n",
    "\n",
    "free_puzzle_files = (dataset.data_dir / \"data\" / \"{0:0>3}\".format(subject_no)).glob(\"*FreeViewing_Puzzle_*.csv\")\n",
    "df_free_puzzle = pd.concat((read_data(f) for f in free_puzzle_files)).sort_values(by=\"Time\")\n",
    "\n",
    "free_natural_files = (dataset.data_dir / \"data\" / \"{0:0>3}\".format(subject_no)).glob(\"*FreeViewing_Natural_*.csv\")\n",
    "df_free_natural = pd.concat((read_data(f) for f in free_natural_files)).sort_values(by=\"Time\")"
   ]
  },
  {
   "cell_type": "code",
   "execution_count": 38,
   "metadata": {
    "collapsed": false
   },
   "outputs": [
    {
     "data": {
      "text/html": [
       "<div>\n",
       "<style scoped>\n",
       "    .dataframe tbody tr th:only-of-type {\n",
       "        vertical-align: middle;\n",
       "    }\n",
       "\n",
       "    .dataframe tbody tr th {\n",
       "        vertical-align: top;\n",
       "    }\n",
       "\n",
       "    .dataframe thead th {\n",
       "        text-align: right;\n",
       "    }\n",
       "</style>\n",
       "<table border=\"1\" class=\"dataframe\">\n",
       "  <thead>\n",
       "    <tr style=\"text-align: right;\">\n",
       "      <th></th>\n",
       "      <th>participant_id</th>\n",
       "      <th>trial_id</th>\n",
       "      <th>fv_fixation</th>\n",
       "      <th>task_type</th>\n",
       "      <th>stimulus_id</th>\n",
       "      <th>Time</th>\n",
       "      <th>LXpix</th>\n",
       "      <th>LYpix</th>\n",
       "      <th>RXpix</th>\n",
       "      <th>RYpix</th>\n",
       "      <th>LXhref</th>\n",
       "      <th>LYhref</th>\n",
       "      <th>RXhref</th>\n",
       "      <th>RYhref</th>\n",
       "      <th>LP</th>\n",
       "      <th>RP</th>\n",
       "    </tr>\n",
       "  </thead>\n",
       "  <tbody>\n",
       "    <tr>\n",
       "      <th>0</th>\n",
       "      <td>022</td>\n",
       "      <td>005</td>\n",
       "      <td>Fixation</td>\n",
       "      <td>Puzzle</td>\n",
       "      <td>puz010</td>\n",
       "      <td>588684</td>\n",
       "      <td>457.94</td>\n",
       "      <td>311.400</td>\n",
       "      <td>458.98</td>\n",
       "      <td>311.175</td>\n",
       "      <td>151.0</td>\n",
       "      <td>3472.0</td>\n",
       "      <td>162.0</td>\n",
       "      <td>3470.0</td>\n",
       "      <td>422</td>\n",
       "      <td>517</td>\n",
       "    </tr>\n",
       "    <tr>\n",
       "      <th>1</th>\n",
       "      <td>022</td>\n",
       "      <td>005</td>\n",
       "      <td>Fixation</td>\n",
       "      <td>Puzzle</td>\n",
       "      <td>puz010</td>\n",
       "      <td>588686</td>\n",
       "      <td>457.30</td>\n",
       "      <td>311.775</td>\n",
       "      <td>459.62</td>\n",
       "      <td>311.325</td>\n",
       "      <td>145.0</td>\n",
       "      <td>3476.0</td>\n",
       "      <td>169.0</td>\n",
       "      <td>3471.0</td>\n",
       "      <td>420</td>\n",
       "      <td>519</td>\n",
       "    </tr>\n",
       "    <tr>\n",
       "      <th>2</th>\n",
       "      <td>022</td>\n",
       "      <td>005</td>\n",
       "      <td>Fixation</td>\n",
       "      <td>Puzzle</td>\n",
       "      <td>puz010</td>\n",
       "      <td>588688</td>\n",
       "      <td>456.74</td>\n",
       "      <td>312.150</td>\n",
       "      <td>460.34</td>\n",
       "      <td>311.475</td>\n",
       "      <td>139.0</td>\n",
       "      <td>3480.0</td>\n",
       "      <td>177.0</td>\n",
       "      <td>3472.0</td>\n",
       "      <td>419</td>\n",
       "      <td>521</td>\n",
       "    </tr>\n",
       "    <tr>\n",
       "      <th>3</th>\n",
       "      <td>022</td>\n",
       "      <td>005</td>\n",
       "      <td>Fixation</td>\n",
       "      <td>Puzzle</td>\n",
       "      <td>puz010</td>\n",
       "      <td>588690</td>\n",
       "      <td>455.70</td>\n",
       "      <td>309.150</td>\n",
       "      <td>459.70</td>\n",
       "      <td>310.800</td>\n",
       "      <td>128.0</td>\n",
       "      <td>3448.0</td>\n",
       "      <td>170.0</td>\n",
       "      <td>3466.0</td>\n",
       "      <td>427</td>\n",
       "      <td>520</td>\n",
       "    </tr>\n",
       "    <tr>\n",
       "      <th>4</th>\n",
       "      <td>022</td>\n",
       "      <td>005</td>\n",
       "      <td>Fixation</td>\n",
       "      <td>Puzzle</td>\n",
       "      <td>puz010</td>\n",
       "      <td>588692</td>\n",
       "      <td>456.98</td>\n",
       "      <td>311.400</td>\n",
       "      <td>461.38</td>\n",
       "      <td>310.350</td>\n",
       "      <td>142.0</td>\n",
       "      <td>3472.0</td>\n",
       "      <td>187.0</td>\n",
       "      <td>3460.0</td>\n",
       "      <td>425</td>\n",
       "      <td>526</td>\n",
       "    </tr>\n",
       "  </tbody>\n",
       "</table>\n",
       "</div>"
      ],
      "text/plain": [
       "  participant_id trial_id fv_fixation task_type stimulus_id    Time   LXpix  \\\n",
       "0            022      005    Fixation    Puzzle      puz010  588684  457.94   \n",
       "1            022      005    Fixation    Puzzle      puz010  588686  457.30   \n",
       "2            022      005    Fixation    Puzzle      puz010  588688  456.74   \n",
       "3            022      005    Fixation    Puzzle      puz010  588690  455.70   \n",
       "4            022      005    Fixation    Puzzle      puz010  588692  456.98   \n",
       "\n",
       "     LYpix   RXpix    RYpix  LXhref  LYhref  RXhref  RYhref   LP   RP  \n",
       "0  311.400  458.98  311.175   151.0  3472.0   162.0  3470.0  422  517  \n",
       "1  311.775  459.62  311.325   145.0  3476.0   169.0  3471.0  420  519  \n",
       "2  312.150  460.34  311.475   139.0  3480.0   177.0  3472.0  419  521  \n",
       "3  309.150  459.70  310.800   128.0  3448.0   170.0  3466.0  427  520  \n",
       "4  311.400  461.38  310.350   142.0  3472.0   187.0  3460.0  425  526  "
      ]
     },
     "execution_count": 38,
     "metadata": {},
     "output_type": "execute_result"
    }
   ],
   "source": [
    "df_fix_puzzle.head()"
   ]
  },
  {
   "cell_type": "code",
   "execution_count": 39,
   "metadata": {
    "collapsed": false
   },
   "outputs": [
    {
     "data": {
      "text/html": [
       "<div>\n",
       "<style scoped>\n",
       "    .dataframe tbody tr th:only-of-type {\n",
       "        vertical-align: middle;\n",
       "    }\n",
       "\n",
       "    .dataframe tbody tr th {\n",
       "        vertical-align: top;\n",
       "    }\n",
       "\n",
       "    .dataframe thead th {\n",
       "        text-align: right;\n",
       "    }\n",
       "</style>\n",
       "<table border=\"1\" class=\"dataframe\">\n",
       "  <thead>\n",
       "    <tr style=\"text-align: right;\">\n",
       "      <th></th>\n",
       "      <th>participant_id</th>\n",
       "      <th>trial_id</th>\n",
       "      <th>fv_fixation</th>\n",
       "      <th>task_type</th>\n",
       "      <th>stimulus_id</th>\n",
       "      <th>Time</th>\n",
       "      <th>LXpix</th>\n",
       "      <th>LYpix</th>\n",
       "      <th>RXpix</th>\n",
       "      <th>RYpix</th>\n",
       "      <th>LXhref</th>\n",
       "      <th>LYhref</th>\n",
       "      <th>RXhref</th>\n",
       "      <th>RYhref</th>\n",
       "      <th>LP</th>\n",
       "      <th>RP</th>\n",
       "    </tr>\n",
       "  </thead>\n",
       "  <tbody>\n",
       "    <tr>\n",
       "      <th>0</th>\n",
       "      <td>022</td>\n",
       "      <td>004</td>\n",
       "      <td>Fixation</td>\n",
       "      <td>Waldo</td>\n",
       "      <td>wal007</td>\n",
       "      <td>539514</td>\n",
       "      <td>462.66</td>\n",
       "      <td>318.750</td>\n",
       "      <td>461.30</td>\n",
       "      <td>314.400</td>\n",
       "      <td>135.0</td>\n",
       "      <td>3560.0</td>\n",
       "      <td>121.0</td>\n",
       "      <td>3513.0</td>\n",
       "      <td>514</td>\n",
       "      <td>607</td>\n",
       "    </tr>\n",
       "    <tr>\n",
       "      <th>1</th>\n",
       "      <td>022</td>\n",
       "      <td>004</td>\n",
       "      <td>Fixation</td>\n",
       "      <td>Waldo</td>\n",
       "      <td>wal007</td>\n",
       "      <td>539516</td>\n",
       "      <td>459.38</td>\n",
       "      <td>317.400</td>\n",
       "      <td>457.70</td>\n",
       "      <td>313.800</td>\n",
       "      <td>138.0</td>\n",
       "      <td>3563.0</td>\n",
       "      <td>121.0</td>\n",
       "      <td>3524.0</td>\n",
       "      <td>514</td>\n",
       "      <td>609</td>\n",
       "    </tr>\n",
       "    <tr>\n",
       "      <th>2</th>\n",
       "      <td>022</td>\n",
       "      <td>004</td>\n",
       "      <td>Fixation</td>\n",
       "      <td>Waldo</td>\n",
       "      <td>wal007</td>\n",
       "      <td>539518</td>\n",
       "      <td>458.34</td>\n",
       "      <td>316.650</td>\n",
       "      <td>458.66</td>\n",
       "      <td>312.900</td>\n",
       "      <td>127.0</td>\n",
       "      <td>3555.0</td>\n",
       "      <td>131.0</td>\n",
       "      <td>3514.0</td>\n",
       "      <td>516</td>\n",
       "      <td>610</td>\n",
       "    </tr>\n",
       "    <tr>\n",
       "      <th>3</th>\n",
       "      <td>022</td>\n",
       "      <td>004</td>\n",
       "      <td>Fixation</td>\n",
       "      <td>Waldo</td>\n",
       "      <td>wal007</td>\n",
       "      <td>539520</td>\n",
       "      <td>459.38</td>\n",
       "      <td>317.175</td>\n",
       "      <td>457.70</td>\n",
       "      <td>314.475</td>\n",
       "      <td>138.0</td>\n",
       "      <td>3561.0</td>\n",
       "      <td>121.0</td>\n",
       "      <td>3531.0</td>\n",
       "      <td>515</td>\n",
       "      <td>617</td>\n",
       "    </tr>\n",
       "    <tr>\n",
       "      <th>4</th>\n",
       "      <td>022</td>\n",
       "      <td>004</td>\n",
       "      <td>Fixation</td>\n",
       "      <td>Waldo</td>\n",
       "      <td>wal007</td>\n",
       "      <td>539522</td>\n",
       "      <td>458.66</td>\n",
       "      <td>318.450</td>\n",
       "      <td>458.66</td>\n",
       "      <td>312.825</td>\n",
       "      <td>130.0</td>\n",
       "      <td>3575.0</td>\n",
       "      <td>131.0</td>\n",
       "      <td>3512.0</td>\n",
       "      <td>517</td>\n",
       "      <td>613</td>\n",
       "    </tr>\n",
       "  </tbody>\n",
       "</table>\n",
       "</div>"
      ],
      "text/plain": [
       "  participant_id trial_id fv_fixation task_type stimulus_id    Time   LXpix  \\\n",
       "0            022      004    Fixation     Waldo      wal007  539514  462.66   \n",
       "1            022      004    Fixation     Waldo      wal007  539516  459.38   \n",
       "2            022      004    Fixation     Waldo      wal007  539518  458.34   \n",
       "3            022      004    Fixation     Waldo      wal007  539520  459.38   \n",
       "4            022      004    Fixation     Waldo      wal007  539522  458.66   \n",
       "\n",
       "     LYpix   RXpix    RYpix  LXhref  LYhref  RXhref  RYhref   LP   RP  \n",
       "0  318.750  461.30  314.400   135.0  3560.0   121.0  3513.0  514  607  \n",
       "1  317.400  457.70  313.800   138.0  3563.0   121.0  3524.0  514  609  \n",
       "2  316.650  458.66  312.900   127.0  3555.0   131.0  3514.0  516  610  \n",
       "3  317.175  457.70  314.475   138.0  3561.0   121.0  3531.0  515  617  \n",
       "4  318.450  458.66  312.825   130.0  3575.0   131.0  3512.0  517  613  "
      ]
     },
     "execution_count": 39,
     "metadata": {},
     "output_type": "execute_result"
    }
   ],
   "source": [
    "df_fix_waldo.head()"
   ]
  },
  {
   "attachments": {},
   "cell_type": "markdown",
   "metadata": {
    "collapsed": false
   },
   "source": [
    "## Hypotheses\n",
    "\n"
   ]
  },
  {
   "attachments": {},
   "cell_type": "markdown",
   "metadata": {},
   "source": [
    "We will be interested in the following hypotheses:\n",
    "\n",
    "1. **Is there a point where a participant becomes tired/bored when viewing a scene? (the frequency of saccades decreases) If so, are some scenes less interesting then others?**\n",
    "    \n",
    "    There are different types of scenes in the study and some are more visually stimulating then others. For example, it is not unreasonable to expect that a participant will stay much more engaged in a scene with a lot of detail to study then when looking at a blank scene. Another possibility is that during visual searches (picture puzzles, where is Waldo) a participant may become frustrated and just give up on the task. \n",
    "\n",
    "    The reasoning behind the way we are going to measure this is as follows. When a participant is engaged in a scene, we assume that their gaze is going to dart across the scene rapidly, as they are studying all the details and the number of saccades during a fixed time frame is going to be very high. On the other hand, when subject becomes bored or frustrated, we might expect that they are going to rest their gaze at some point and not move their eyes very much (maybe just expecting for the experiment to be over) and so the frequency of saccades is going to decrease.\n",
    "\n",
    "    However, the decrease in frequency of saccades might not be exactly indicative of the subjects boredom or frustration. It is not unlikely that the frequency of saccades is high every time a new scene is introduced and naturally decreases as the subject becomes acquainted with the scene.\n",
    "\n",
    "    Whatever the reason might be, if there indeed is such a changing point in the frequency of saccades, it might be interesting to study the time for such change and it's relationship to participant, scene and task.\n",
    "\n",
    "\n",
    "2. **Does the pupil size change depending on scene? What about dependence on task?**\n",
    "\n",
    "    The motivation behind this hypothesis is that we would like to study the excitement of a subject viewing some scene or performing some task. One of the indicators of excitement might be the change in pupil size (i.e. we expect pupil to dilate during excitement and contract otherwise).\n",
    "\n",
    "    There are various tasks and scenes and the level of excitement (pupil dilation) might differ in each:\n",
    "    - in **picture puzzles** we might expect that the level of excitement is kept high during the whole duration, peaking when subject finds a difference\n",
    "    - in _**Where is Waldo?**_ puzzle we might expect the level of excitement being low as the subject is having difficulties finding Waldo and peaking when (if) Waldo is found\n",
    "    - viewing a **blank scene** might not excite much\n",
    "\n",
    "    Therefore, it is interesting to ask which tasks and scenes are the most stimulating and whether any significant distinction can be made."
   ]
  },
  {
   "cell_type": "markdown",
   "metadata": {
    "collapsed": false
   },
   "source": [
    "## Data manipulation\n",
    "\n",
    "This is an optional section, in which you could describe, what did you do with the data to obtain given format. In our example, we just need to merge the data. Additionally, we want to detect fixations"
   ]
  },
  {
   "cell_type": "code",
   "execution_count": 40,
   "metadata": {
    "collapsed": false
   },
   "outputs": [
    {
     "name": "stderr",
     "output_type": "stream",
     "text": [
      "Computed velocity exceeds threshold. Inappropriate filter setup? [1569.3 > 1500.0 deg/s]\n",
      "Computed velocity exceeds threshold. Inappropriate filter setup? [1692.4 > 1500.0 deg/s]\n",
      "Computed velocity exceeds threshold. Inappropriate filter setup? [1525.3 > 1500.0 deg/s]\n",
      "Computed velocity exceeds threshold. Inappropriate filter setup? [2035.5 > 1500.0 deg/s]\n",
      "Computed velocity exceeds threshold. Inappropriate filter setup? [2214.0 > 1500.0 deg/s]\n",
      "Computed velocity exceeds threshold. Inappropriate filter setup? [2018.2 > 1500.0 deg/s]\n",
      "Computed velocity exceeds threshold. Inappropriate filter setup? [1616.7 > 1500.0 deg/s]\n"
     ]
    }
   ],
   "source": [
    "from etra import detect\n",
    "\n",
    "df_hyp1_samples = df_free_natural.rename({\"Time\": \"time\", \"trial_id\": \"trial\", \"LXpix\": \"x\", \"LYpix\": \"y\"}, axis=1)\n",
    "df_hyp1_samples[\"time\"] = df_hyp1_samples.groupby([\"participant_id\", \"trial\"])[\"time\"].transform(lambda x: x - x.min())\n",
    "\n",
    "df_hyp1_sacc = []\n",
    "groups = df_hyp1_samples.groupby([\"participant_id\", \"trial\"])\n",
    "for (pid, trial), group in groups:\n",
    "    tmp = detect(group)\n",
    "    tmp = tmp[tmp[\"label\"] == \"SACC\"]\n",
    "    tmp[\"participant_id\"] = pid\n",
    "    tmp[\"trial\"] = trial\n",
    "    df_hyp1_sacc.append(tmp)\n",
    "\n",
    "df_hyp1_sacc = pd.concat(df_hyp1_sacc)\n",
    "df_hyp1_sacc = df_hyp1_samples[\n",
    "    [\"participant_id\", \"trial\", \"fv_fixation\", \"task_type\", \"stimulus_id\"]].drop_duplicates().merge(df_hyp1_sacc, on=[\n",
    "    \"participant_id\", \"trial\"], how=\"left\")"
   ]
  },
  {
   "cell_type": "code",
   "execution_count": 41,
   "metadata": {},
   "outputs": [
    {
     "data": {
      "text/html": [
       "<div>\n",
       "<style scoped>\n",
       "    .dataframe tbody tr th:only-of-type {\n",
       "        vertical-align: middle;\n",
       "    }\n",
       "\n",
       "    .dataframe tbody tr th {\n",
       "        vertical-align: top;\n",
       "    }\n",
       "\n",
       "    .dataframe thead th {\n",
       "        text-align: right;\n",
       "    }\n",
       "</style>\n",
       "<table border=\"1\" class=\"dataframe\">\n",
       "  <thead>\n",
       "    <tr style=\"text-align: right;\">\n",
       "      <th></th>\n",
       "      <th>participant_id</th>\n",
       "      <th>trial</th>\n",
       "      <th>fv_fixation</th>\n",
       "      <th>task_type</th>\n",
       "      <th>stimulus_id</th>\n",
       "      <th>label</th>\n",
       "      <th>start_time</th>\n",
       "      <th>end_time</th>\n",
       "      <th>start_x</th>\n",
       "      <th>start_y</th>\n",
       "      <th>end_x</th>\n",
       "      <th>end_y</th>\n",
       "      <th>amp</th>\n",
       "      <th>peak_vel</th>\n",
       "      <th>med_vel</th>\n",
       "      <th>avg_vel</th>\n",
       "    </tr>\n",
       "  </thead>\n",
       "  <tbody>\n",
       "    <tr>\n",
       "      <th>0</th>\n",
       "      <td>022</td>\n",
       "      <td>003</td>\n",
       "      <td>FreeViewing</td>\n",
       "      <td>Natural</td>\n",
       "      <td>nat010</td>\n",
       "      <td>SACC</td>\n",
       "      <td>258</td>\n",
       "      <td>308</td>\n",
       "      <td>462.939827</td>\n",
       "      <td>315.148377</td>\n",
       "      <td>299.453766</td>\n",
       "      <td>278.508442</td>\n",
       "      <td>6.326922</td>\n",
       "      <td>254.231181</td>\n",
       "      <td>141.080614</td>\n",
       "      <td>141.445507</td>\n",
       "    </tr>\n",
       "    <tr>\n",
       "      <th>1</th>\n",
       "      <td>022</td>\n",
       "      <td>003</td>\n",
       "      <td>FreeViewing</td>\n",
       "      <td>Natural</td>\n",
       "      <td>nat010</td>\n",
       "      <td>SACC</td>\n",
       "      <td>480</td>\n",
       "      <td>526</td>\n",
       "      <td>289.379654</td>\n",
       "      <td>275.827922</td>\n",
       "      <td>591.837143</td>\n",
       "      <td>217.017532</td>\n",
       "      <td>11.635705</td>\n",
       "      <td>409.015620</td>\n",
       "      <td>285.235234</td>\n",
       "      <td>254.767241</td>\n",
       "    </tr>\n",
       "    <tr>\n",
       "      <th>2</th>\n",
       "      <td>022</td>\n",
       "      <td>003</td>\n",
       "      <td>FreeViewing</td>\n",
       "      <td>Natural</td>\n",
       "      <td>nat010</td>\n",
       "      <td>SACC</td>\n",
       "      <td>670</td>\n",
       "      <td>724</td>\n",
       "      <td>575.267446</td>\n",
       "      <td>219.270130</td>\n",
       "      <td>253.125108</td>\n",
       "      <td>178.131818</td>\n",
       "      <td>12.263950</td>\n",
       "      <td>413.862127</td>\n",
       "      <td>285.146338</td>\n",
       "      <td>238.429579</td>\n",
       "    </tr>\n",
       "    <tr>\n",
       "      <th>3</th>\n",
       "      <td>022</td>\n",
       "      <td>003</td>\n",
       "      <td>FreeViewing</td>\n",
       "      <td>Natural</td>\n",
       "      <td>nat010</td>\n",
       "      <td>SACC</td>\n",
       "      <td>1166</td>\n",
       "      <td>1194</td>\n",
       "      <td>169.417056</td>\n",
       "      <td>157.048701</td>\n",
       "      <td>175.081818</td>\n",
       "      <td>290.109091</td>\n",
       "      <td>5.029351</td>\n",
       "      <td>584.710677</td>\n",
       "      <td>94.861205</td>\n",
       "      <td>207.182861</td>\n",
       "    </tr>\n",
       "    <tr>\n",
       "      <th>4</th>\n",
       "      <td>022</td>\n",
       "      <td>003</td>\n",
       "      <td>FreeViewing</td>\n",
       "      <td>Natural</td>\n",
       "      <td>nat010</td>\n",
       "      <td>SACC</td>\n",
       "      <td>1266</td>\n",
       "      <td>1300</td>\n",
       "      <td>174.783636</td>\n",
       "      <td>285.601948</td>\n",
       "      <td>155.359221</td>\n",
       "      <td>121.611364</td>\n",
       "      <td>6.236117</td>\n",
       "      <td>351.750150</td>\n",
       "      <td>174.715939</td>\n",
       "      <td>188.218606</td>\n",
       "    </tr>\n",
       "    <tr>\n",
       "      <th>...</th>\n",
       "      <td>...</td>\n",
       "      <td>...</td>\n",
       "      <td>...</td>\n",
       "      <td>...</td>\n",
       "      <td>...</td>\n",
       "      <td>...</td>\n",
       "      <td>...</td>\n",
       "      <td>...</td>\n",
       "      <td>...</td>\n",
       "      <td>...</td>\n",
       "      <td>...</td>\n",
       "      <td>...</td>\n",
       "      <td>...</td>\n",
       "      <td>...</td>\n",
       "      <td>...</td>\n",
       "      <td>...</td>\n",
       "    </tr>\n",
       "    <tr>\n",
       "      <th>1347</th>\n",
       "      <td>022</td>\n",
       "      <td>120</td>\n",
       "      <td>FreeViewing</td>\n",
       "      <td>Natural</td>\n",
       "      <td>nat005</td>\n",
       "      <td>SACC</td>\n",
       "      <td>43566</td>\n",
       "      <td>43824</td>\n",
       "      <td>346.139481</td>\n",
       "      <td>572.417208</td>\n",
       "      <td>747.106753</td>\n",
       "      <td>604.495455</td>\n",
       "      <td>15.190226</td>\n",
       "      <td>1485.930097</td>\n",
       "      <td>0.000000</td>\n",
       "      <td>81.346614</td>\n",
       "    </tr>\n",
       "    <tr>\n",
       "      <th>1348</th>\n",
       "      <td>022</td>\n",
       "      <td>120</td>\n",
       "      <td>FreeViewing</td>\n",
       "      <td>Natural</td>\n",
       "      <td>nat005</td>\n",
       "      <td>SACC</td>\n",
       "      <td>43908</td>\n",
       "      <td>43960</td>\n",
       "      <td>649.730476</td>\n",
       "      <td>570.438636</td>\n",
       "      <td>820.874372</td>\n",
       "      <td>568.003571</td>\n",
       "      <td>6.463612</td>\n",
       "      <td>289.197078</td>\n",
       "      <td>121.548295</td>\n",
       "      <td>132.622047</td>\n",
       "    </tr>\n",
       "    <tr>\n",
       "      <th>1349</th>\n",
       "      <td>022</td>\n",
       "      <td>120</td>\n",
       "      <td>FreeViewing</td>\n",
       "      <td>Natural</td>\n",
       "      <td>nat005</td>\n",
       "      <td>SACC</td>\n",
       "      <td>44192</td>\n",
       "      <td>44224</td>\n",
       "      <td>816.331688</td>\n",
       "      <td>569.631494</td>\n",
       "      <td>729.898442</td>\n",
       "      <td>558.972727</td>\n",
       "      <td>3.288729</td>\n",
       "      <td>222.459337</td>\n",
       "      <td>84.917971</td>\n",
       "      <td>104.677499</td>\n",
       "    </tr>\n",
       "    <tr>\n",
       "      <th>1350</th>\n",
       "      <td>022</td>\n",
       "      <td>120</td>\n",
       "      <td>FreeViewing</td>\n",
       "      <td>Natural</td>\n",
       "      <td>nat005</td>\n",
       "      <td>SACC</td>\n",
       "      <td>44392</td>\n",
       "      <td>44424</td>\n",
       "      <td>732.376364</td>\n",
       "      <td>559.287662</td>\n",
       "      <td>610.189697</td>\n",
       "      <td>565.907792</td>\n",
       "      <td>4.620939</td>\n",
       "      <td>238.402342</td>\n",
       "      <td>164.946265</td>\n",
       "      <td>146.341177</td>\n",
       "    </tr>\n",
       "    <tr>\n",
       "      <th>1351</th>\n",
       "      <td>022</td>\n",
       "      <td>120</td>\n",
       "      <td>FreeViewing</td>\n",
       "      <td>Natural</td>\n",
       "      <td>nat005</td>\n",
       "      <td>SACC</td>\n",
       "      <td>44644</td>\n",
       "      <td>44684</td>\n",
       "      <td>616.351429</td>\n",
       "      <td>557.787987</td>\n",
       "      <td>673.800087</td>\n",
       "      <td>473.938961</td>\n",
       "      <td>3.838321</td>\n",
       "      <td>166.389199</td>\n",
       "      <td>110.189602</td>\n",
       "      <td>99.530667</td>\n",
       "    </tr>\n",
       "  </tbody>\n",
       "</table>\n",
       "<p>1352 rows × 16 columns</p>\n",
       "</div>"
      ],
      "text/plain": [
       "     participant_id trial  fv_fixation task_type stimulus_id label  \\\n",
       "0               022   003  FreeViewing   Natural      nat010  SACC   \n",
       "1               022   003  FreeViewing   Natural      nat010  SACC   \n",
       "2               022   003  FreeViewing   Natural      nat010  SACC   \n",
       "3               022   003  FreeViewing   Natural      nat010  SACC   \n",
       "4               022   003  FreeViewing   Natural      nat010  SACC   \n",
       "...             ...   ...          ...       ...         ...   ...   \n",
       "1347            022   120  FreeViewing   Natural      nat005  SACC   \n",
       "1348            022   120  FreeViewing   Natural      nat005  SACC   \n",
       "1349            022   120  FreeViewing   Natural      nat005  SACC   \n",
       "1350            022   120  FreeViewing   Natural      nat005  SACC   \n",
       "1351            022   120  FreeViewing   Natural      nat005  SACC   \n",
       "\n",
       "      start_time  end_time     start_x     start_y       end_x       end_y  \\\n",
       "0            258       308  462.939827  315.148377  299.453766  278.508442   \n",
       "1            480       526  289.379654  275.827922  591.837143  217.017532   \n",
       "2            670       724  575.267446  219.270130  253.125108  178.131818   \n",
       "3           1166      1194  169.417056  157.048701  175.081818  290.109091   \n",
       "4           1266      1300  174.783636  285.601948  155.359221  121.611364   \n",
       "...          ...       ...         ...         ...         ...         ...   \n",
       "1347       43566     43824  346.139481  572.417208  747.106753  604.495455   \n",
       "1348       43908     43960  649.730476  570.438636  820.874372  568.003571   \n",
       "1349       44192     44224  816.331688  569.631494  729.898442  558.972727   \n",
       "1350       44392     44424  732.376364  559.287662  610.189697  565.907792   \n",
       "1351       44644     44684  616.351429  557.787987  673.800087  473.938961   \n",
       "\n",
       "            amp     peak_vel     med_vel     avg_vel  \n",
       "0      6.326922   254.231181  141.080614  141.445507  \n",
       "1     11.635705   409.015620  285.235234  254.767241  \n",
       "2     12.263950   413.862127  285.146338  238.429579  \n",
       "3      5.029351   584.710677   94.861205  207.182861  \n",
       "4      6.236117   351.750150  174.715939  188.218606  \n",
       "...         ...          ...         ...         ...  \n",
       "1347  15.190226  1485.930097    0.000000   81.346614  \n",
       "1348   6.463612   289.197078  121.548295  132.622047  \n",
       "1349   3.288729   222.459337   84.917971  104.677499  \n",
       "1350   4.620939   238.402342  164.946265  146.341177  \n",
       "1351   3.838321   166.389199  110.189602   99.530667  \n",
       "\n",
       "[1352 rows x 16 columns]"
      ]
     },
     "execution_count": 41,
     "metadata": {},
     "output_type": "execute_result"
    }
   ],
   "source": [
    "df_hyp1_sacc"
   ]
  },
  {
   "cell_type": "code",
   "execution_count": 45,
   "metadata": {},
   "outputs": [
    {
     "data": {
      "text/plain": [
       "<seaborn.axisgrid.FacetGrid at 0x7fda7a08ed40>"
      ]
     },
     "execution_count": 45,
     "metadata": {},
     "output_type": "execute_result"
    },
    {
     "data": {
      "image/png": "[encoded data removed]",
      "text/plain": [
       "<Figure size 1500x500 with 1 Axes>"
      ]
     },
     "metadata": {},
     "output_type": "display_data"
    }
   ],
   "source": [
    "# Plot the distriution of saccades in time\n",
    "g = sns.catplot(\n",
    "    data=df_hyp1_sacc,\n",
    "    x='start_time',\n",
    "    y='stimulus_id',\n",
    "    jitter=False,\n",
    "    aspect=3,\n",
    ")\n",
    "g.set_xlabels(\"Start time of a saccade\")\n",
    "g.set_ylabels(\"ID of the stimulus\")\n",
    "g.set(title=\"Distribution of saccades in time in a Natural scene for one participant\")"
   ]
  },
  {
   "cell_type": "code",
   "execution_count": 142,
   "metadata": {},
   "outputs": [
    {
     "data": {
      "text/plain": [
       "<seaborn.axisgrid.FacetGrid at 0x7fda653a3ee0>"
      ]
     },
     "execution_count": 142,
     "metadata": {},
     "output_type": "execute_result"
    },
    {
     "data": {
      "image/png": "[encoded data removed]",
      "text/plain": [
       "<Figure size 1500x500 with 1 Axes>"
      ]
     },
     "metadata": {},
     "output_type": "display_data"
    }
   ],
   "source": [
    "# Count the number of saccades each second\n",
    "def saccade_frequency_count_by_second(data):\n",
    "    bins = (data.start_time // 1000).value_counts().sort_index()\n",
    "    data = pd.DataFrame({\"time\": range(45)})\n",
    "    data[\"sacc_count\"] = bins\n",
    "    data.fillna(0, inplace=True)\n",
    "    data.sacc_count = data.sacc_count.astype(int)\n",
    "    \n",
    "    return data\n",
    "\n",
    "counts = saccade_frequency_count_by_second(df_hyp1_sacc[df_hyp1_sacc.stimulus_id == \"nat003\"])\n",
    "sns.catplot(data=counts, x='time', y='sacc_count', kind=\"bar\", color=\"blue\", aspect=3)"
   ]
  },
  {
   "cell_type": "code",
   "execution_count": 149,
   "metadata": {},
   "outputs": [
    {
     "data": {
      "text/plain": [
       "<seaborn.axisgrid.FacetGrid at 0x7fda647dee60>"
      ]
     },
     "execution_count": 149,
     "metadata": {},
     "output_type": "execute_result"
    },
    {
     "data": {
      "image/png": "[encoded data removed]",
      "text/plain": [
       "<Figure size 1500x500 with 1 Axes>"
      ]
     },
     "metadata": {},
     "output_type": "display_data"
    }
   ],
   "source": [
    "scene = df_hyp1_sacc[df_hyp1_sacc.stimulus_id == \"nat003\"].copy()\n",
    "scene.start_time = scene.start_time.apply(lambda ms: ms // 1000)\n",
    "\n",
    "g = sns.displot(data=scene, x='start_time', bins=45, stat=\"count\", aspect=3)\n",
    "g.set_xlabels(\"Time in milliseconds (ms)\")\n",
    "g.set_ylabels(\"Number of saccades\")\n",
    "g.set(title=\"Frequency of saccades by in time for one scene\")"
   ]
  },
  {
   "cell_type": "code",
   "execution_count": 164,
   "metadata": {},
   "outputs": [],
   "source": [
    "count_data = saccade_frequency_count_by_second(df_hyp1_sacc[df_hyp1_sacc.stimulus_id == \"nat003\"])\n",
    "count_data = count_data.sacc_count\n",
    "n_count_data = count_data.shape[0]"
   ]
  },
  {
   "cell_type": "code",
   "execution_count": 166,
   "metadata": {},
   "outputs": [],
   "source": [
    "with pm.Model() as model:\n",
    "    alpha = 1.0/count_data.mean()  # Recall count_data is the\n",
    "                                   # variable that holds our txt counts\n",
    "    lambda_1 = pm.Exponential(\"lambda_1\", alpha)\n",
    "    lambda_2 = pm.Exponential(\"lambda_2\", alpha)\n",
    "    \n",
    "    tau = pm.DiscreteUniform(\"tau\", lower=0, upper=n_count_data)\n",
    "\n",
    "    index = np.arange(n_count_data)\n",
    "    lambda_ = pm.math.switch( tau >= index, lambda_1, lambda_2 )\n",
    "    \n",
    "    observation = pm.Poisson(\"obs\", lambda_, observed=count_data)"
   ]
  },
  {
   "cell_type": "code",
   "execution_count": 167,
   "metadata": {},
   "outputs": [],
   "source": [
    "with model:\n",
    "    pm.sample(5000)"
   ]
  },
  {
   "attachments": {},
   "cell_type": "markdown",
   "metadata": {},
   "source": [
    "We model the start times of saccades as a Poisson process."
   ]
  },
  {
   "cell_type": "code",
   "execution_count": null,
   "metadata": {},
   "outputs": [],
   "source": []
  },
  {
   "cell_type": "markdown",
   "metadata": {
    "collapsed": false
   },
   "source": [
    "## Results\n",
    "\n",
    "In this section, describe statistical test that you used for testing your hypotheses. In general, the selection of statistical test depends on the type of variable.\n",
    "\n",
    "There are following types of variables:\n",
    "\n",
    "* Continuous - when the variable behaves as number. All fixation durations, pupil size, time are continuous variables\n",
    "* Ordinal - variables do not behave as numbers, but you can order them. Grades in school are typical example. You can't say how many times is 1 better than 2, but you can say that 1 is better grade than 2. There are no nominal variables in this dataset, so I added this description only for completeness.\n",
    "* Nominal - when variables are qualitative different. Type of task is an example of nominal variable\n",
    "\n",
    "In the case of two variables, there are following options\n",
    "* both variables continuous - regression or correlation (in R function `lm()` or `cor`/`cor.test` )\n",
    "* both variables nominal - contingency tables a chi square test\n",
    "* one variable nominal, other continuous - this is very common, this type is used, when we compare differences two condition - in this case, we use t.tests\n",
    "\n",
    "There are three main types of t.tests\n",
    "\n",
    "* Independent t-test - both groups contain independent data points (each data point is a different entity)\n",
    "* Paired t-test - data points are linked to each other. This is typical example, when we measure same subjects multiple times\n",
    "* One sample t-test - we are testing the sample against some theoretically interesting number\n",
    "\n",
    "In case of more than two variables, we need to use ANOVAs. Usually, one variable will be dependent (outcome, the one which levels interest us) and others will be independent (predictors, the one, that we manipulate).\n",
    "* For more than two groups, we use between-subject ANOVA\n",
    "* For more than two measurement of same subject, we use within-subject ANOVA\n",
    "* We can combine multiple between- and within-subject factors into mixed ANOVA\n",
    "\n",
    "In our case, the simplest way how to test that is to aggregate data per each trial and use t-tests"
   ]
  },
  {
   "cell_type": "markdown",
   "metadata": {
    "collapsed": false
   },
   "source": [
    "### using t-tests\n",
    "\n",
    "Because we have multiple data points from each participant, we can first aggregate data for each trial"
   ]
  },
  {
   "cell_type": "code",
   "execution_count": 44,
   "metadata": {
    "collapsed": false
   },
   "outputs": [
    {
     "ename": "NameError",
     "evalue": "name 'df_hyp1_fix' is not defined",
     "output_type": "error",
     "traceback": [
      "\u001b[0;31m---------------------------------------------------------------------------\u001b[0m",
      "\u001b[0;31mNameError\u001b[0m                                 Traceback (most recent call last)",
      "Cell \u001b[0;32mIn[44], line 1\u001b[0m\n\u001b[0;32m----> 1\u001b[0m avg_durations \u001b[39m=\u001b[39m df_hyp1_fix\u001b[39m.\u001b[39massign(dur\u001b[39m=\u001b[39m\u001b[39mlambda\u001b[39;00m x: x\u001b[39m.\u001b[39mend_time \u001b[39m-\u001b[39m x\u001b[39m.\u001b[39mstart_time)\\\n\u001b[1;32m      2\u001b[0m     \u001b[39m.\u001b[39mgroupby([\u001b[39m\"\u001b[39m\u001b[39mtask_type\u001b[39m\u001b[39m\"\u001b[39m, \u001b[39m\"\u001b[39m\u001b[39mtrial\u001b[39m\u001b[39m\"\u001b[39m])\\\n\u001b[1;32m      3\u001b[0m     \u001b[39m.\u001b[39magg(avg_dur\u001b[39m=\u001b[39m(\u001b[39m\"\u001b[39m\u001b[39mdur\u001b[39m\u001b[39m\"\u001b[39m, \u001b[39m\"\u001b[39m\u001b[39mmean\u001b[39m\u001b[39m\"\u001b[39m))\\\n\u001b[1;32m      4\u001b[0m     \u001b[39m.\u001b[39mreset_index()\n\u001b[1;32m      5\u001b[0m avg_durations\n",
      "\u001b[0;31mNameError\u001b[0m: name 'df_hyp1_fix' is not defined"
     ]
    }
   ],
   "source": [
    "avg_durations = df_hyp1_fix.assign(dur=lambda x: x.end_time - x.start_time)\\\n",
    "    .groupby([\"task_type\", \"trial\"])\\\n",
    "    .agg(avg_dur=(\"dur\", \"mean\"))\\\n",
    "    .reset_index()\n",
    "avg_durations"
   ]
  },
  {
   "cell_type": "code",
   "execution_count": null,
   "metadata": {
    "collapsed": false
   },
   "outputs": [
    {
     "ename": "",
     "evalue": "",
     "output_type": "error",
     "traceback": [
      "\u001b[1;31mnotebook controller is DISPOSED. \n",
      "\u001b[1;31mView Jupyter <a href='command:jupyter.viewOutput'>log</a> for further details."
     ]
    }
   ],
   "source": [
    "ttest_result = stats.ttest_rel(\n",
    "    avg_durations[avg_durations.task_type == \"Puzzle\"].avg_dur,\n",
    "    avg_durations[avg_durations.task_type == \"Waldo\"].avg_dur,\n",
    ")"
   ]
  },
  {
   "cell_type": "code",
   "execution_count": null,
   "metadata": {
    "collapsed": false
   },
   "outputs": [
    {
     "ename": "",
     "evalue": "",
     "output_type": "error",
     "traceback": [
      "\u001b[1;31mnotebook controller is DISPOSED. \n",
      "\u001b[1;31mView Jupyter <a href='command:jupyter.viewOutput'>log</a> for further details."
     ]
    }
   ],
   "source": [
    "%%jinja markdown\n",
    "\n",
    "Results show that there is no difference between Fixation duration in Where is Waldo and Puzzle (pvalue={{\"{:.3}\".format(ttest_result.pvalue)}})"
   ]
  }
 ],
 "metadata": {
  "kernelspec": {
   "display_name": "etra-challenge-dq6YYWaC-py3.10",
   "language": "python",
   "name": "python3"
  },
  "language_info": {
   "codemirror_mode": {
    "name": "ipython",
    "version": 3
   },
   "file_extension": ".py",
   "mimetype": "text/x-python",
   "name": "python",
   "nbconvert_exporter": "python",
   "pygments_lexer": "ipython3",
   "version": "3.10.9"
  },
  "orig_nbformat": 4,
  "vscode": {
   "interpreter": {
    "hash": "828ba65469ab7d1eb6b2c2a73cbdad8ebdd5c9505e85a6219fcdfdce537bfd0c"
   }
  }
 },
 "nbformat": 4,
 "nbformat_minor": 2
}
