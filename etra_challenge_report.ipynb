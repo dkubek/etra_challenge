{
 "cells": [
  {
   "cell_type": "raw",
   "metadata": {},
   "source": [
    "title: \"ETRA Challenge Report\"\n",
    "author: Dávid Kubek\n",
    "date: \"{{ datetime.now().strftime('%Y-%m-%d') }}\"\n",
    "output:\n",
    "    general:\n",
    "        input: false\n",
    "    html:\n",
    "        toc: true\n",
    "        theme: sandstone"
   ]
  },
  {
   "cell_type": "markdown",
   "metadata": {},
   "source": [
    "# ETRA Challenge Report"
   ]
  },
  {
   "cell_type": "markdown",
   "source": [
    "# Setup"
   ],
   "metadata": {
    "collapsed": false
   }
  },
  {
   "cell_type": "code",
   "execution_count": 1,
   "metadata": {},
   "outputs": [],
   "source": [
    "# Import libraries\n",
    "import pandas as pd\n",
    "import numpy as np\n",
    "import seaborn as sns\n",
    "import scipy.stats as stats\n",
    "import matplotlib.pyplot as plt\n",
    "import missingno as msno\n",
    "\n",
    "# classes for special types\n",
    "from pandas.api.types import CategoricalDtype\n",
    "from scipy.sparse._data import _data_matrix\n",
    "\n",
    "# Apply the default theme\n",
    "sns.set_theme()"
   ]
  },
  {
   "cell_type": "code",
   "execution_count": 2,
   "metadata": {},
   "outputs": [],
   "source": [
    "# @formatter:off\n",
    "%matplotlib inline\n",
    "# should enable plotting without explicit call .show()\n",
    "\n",
    "%load_ext pretty_jupyter\n",
    "#@formatter:on"
   ]
  },
  {
   "cell_type": "markdown",
   "source": [
    "## Downloading data\n",
    "\n",
    "Download zip file from the web page. Description of the dataset is on the page [ETRA dataset description](https://etra.acm.org/2019/challenge.html)"
   ],
   "metadata": {
    "collapsed": false
   }
  },
  {
   "cell_type": "code",
   "execution_count": 3,
   "outputs": [
    {
     "name": "stderr",
     "output_type": "stream",
     "text": [
      "Dataset etra already downloaded.\n",
      "Unpacking etra...\n"
     ]
    }
   ],
   "source": [
    "from etra import ETRA\n",
    "\n",
    "dataset = ETRA()"
   ],
   "metadata": {
    "collapsed": false
   }
  },
  {
   "cell_type": "markdown",
   "source": [
    "The directory ``data`` should therefore contain following directories/files\n",
    "\n",
    "- data\n",
    "- images\n",
    "- DataSummary.csv"
   ],
   "metadata": {
    "collapsed": false
   }
  },
  {
   "cell_type": "markdown",
   "source": [
    "## Load Data"
   ],
   "metadata": {
    "collapsed": false
   }
  },
  {
   "cell_type": "code",
   "execution_count": 4,
   "outputs": [],
   "source": [
    "from etra import read_data\n",
    "\n",
    "subject_no = 9\n",
    "fix_puzzle_files = (dataset.data_dir / \"data\" / \"{0:0>3}\".format(subject_no)).glob(\"*Fixation_Puzzle_*.csv\")\n",
    "df_fix_puzzle = pd.concat((read_data(f) for f in fix_puzzle_files)).sort_values(by=\"Time\")\n",
    "\n",
    "fix_waldo_files = (dataset.data_dir / \"data\" / \"{0:0>3}\".format(subject_no)).glob(\"*Fixation_Waldo_*.csv\")\n",
    "df_fix_waldo = pd.concat((read_data(f) for f in fix_waldo_files)).sort_values(by=\"Time\")"
   ],
   "metadata": {
    "collapsed": false
   }
  },
  {
   "cell_type": "code",
   "execution_count": 5,
   "outputs": [
    {
     "data": {
      "text/plain": "  participant_id trial_id fv_fixation task_type stimulus_id     Time   LXpix  \\\n0            009      012    Fixation    Puzzle      puz013  1034834  467.22   \n1            009      012    Fixation    Puzzle      puz013  1034836  460.82   \n2            009      012    Fixation    Puzzle      puz013  1034838  460.98   \n3            009      012    Fixation    Puzzle      puz013  1034840  461.30   \n4            009      012    Fixation    Puzzle      puz013  1034842  460.74   \n\n     LYpix   RXpix    RYpix  LXhref  LYhref  RXhref  RYhref   LP   RP  \n0  301.350  471.38  302.700   482.0  1228.0   527.0  1239.0  833  940  \n1  304.350  464.82  304.950   487.0  1229.0   530.0  1233.0  830  943  \n2  303.375  463.70  306.000   488.0  1219.0   519.0  1246.0  831  942  \n3  302.775  465.86  306.225   491.0  1211.0   542.0  1246.0  828  950  \n4  302.400  464.82  306.000   485.0  1208.0   531.0  1245.0  829  942  ",
      "text/html": "<div>\n<style scoped>\n    .dataframe tbody tr th:only-of-type {\n        vertical-align: middle;\n    }\n\n    .dataframe tbody tr th {\n        vertical-align: top;\n    }\n\n    .dataframe thead th {\n        text-align: right;\n    }\n</style>\n<table border=\"1\" class=\"dataframe\">\n  <thead>\n    <tr style=\"text-align: right;\">\n      <th></th>\n      <th>participant_id</th>\n      <th>trial_id</th>\n      <th>fv_fixation</th>\n      <th>task_type</th>\n      <th>stimulus_id</th>\n      <th>Time</th>\n      <th>LXpix</th>\n      <th>LYpix</th>\n      <th>RXpix</th>\n      <th>RYpix</th>\n      <th>LXhref</th>\n      <th>LYhref</th>\n      <th>RXhref</th>\n      <th>RYhref</th>\n      <th>LP</th>\n      <th>RP</th>\n    </tr>\n  </thead>\n  <tbody>\n    <tr>\n      <th>0</th>\n      <td>009</td>\n      <td>012</td>\n      <td>Fixation</td>\n      <td>Puzzle</td>\n      <td>puz013</td>\n      <td>1034834</td>\n      <td>467.22</td>\n      <td>301.350</td>\n      <td>471.38</td>\n      <td>302.700</td>\n      <td>482.0</td>\n      <td>1228.0</td>\n      <td>527.0</td>\n      <td>1239.0</td>\n      <td>833</td>\n      <td>940</td>\n    </tr>\n    <tr>\n      <th>1</th>\n      <td>009</td>\n      <td>012</td>\n      <td>Fixation</td>\n      <td>Puzzle</td>\n      <td>puz013</td>\n      <td>1034836</td>\n      <td>460.82</td>\n      <td>304.350</td>\n      <td>464.82</td>\n      <td>304.950</td>\n      <td>487.0</td>\n      <td>1229.0</td>\n      <td>530.0</td>\n      <td>1233.0</td>\n      <td>830</td>\n      <td>943</td>\n    </tr>\n    <tr>\n      <th>2</th>\n      <td>009</td>\n      <td>012</td>\n      <td>Fixation</td>\n      <td>Puzzle</td>\n      <td>puz013</td>\n      <td>1034838</td>\n      <td>460.98</td>\n      <td>303.375</td>\n      <td>463.70</td>\n      <td>306.000</td>\n      <td>488.0</td>\n      <td>1219.0</td>\n      <td>519.0</td>\n      <td>1246.0</td>\n      <td>831</td>\n      <td>942</td>\n    </tr>\n    <tr>\n      <th>3</th>\n      <td>009</td>\n      <td>012</td>\n      <td>Fixation</td>\n      <td>Puzzle</td>\n      <td>puz013</td>\n      <td>1034840</td>\n      <td>461.30</td>\n      <td>302.775</td>\n      <td>465.86</td>\n      <td>306.225</td>\n      <td>491.0</td>\n      <td>1211.0</td>\n      <td>542.0</td>\n      <td>1246.0</td>\n      <td>828</td>\n      <td>950</td>\n    </tr>\n    <tr>\n      <th>4</th>\n      <td>009</td>\n      <td>012</td>\n      <td>Fixation</td>\n      <td>Puzzle</td>\n      <td>puz013</td>\n      <td>1034842</td>\n      <td>460.74</td>\n      <td>302.400</td>\n      <td>464.82</td>\n      <td>306.000</td>\n      <td>485.0</td>\n      <td>1208.0</td>\n      <td>531.0</td>\n      <td>1245.0</td>\n      <td>829</td>\n      <td>942</td>\n    </tr>\n  </tbody>\n</table>\n</div>"
     },
     "execution_count": 5,
     "metadata": {},
     "output_type": "execute_result"
    }
   ],
   "source": [
    "df_fix_puzzle.head()"
   ],
   "metadata": {
    "collapsed": false
   }
  },
  {
   "cell_type": "code",
   "execution_count": 6,
   "outputs": [
    {
     "data": {
      "text/plain": "  participant_id trial_id fv_fixation task_type stimulus_id     Time   LXpix  \\\n0            009      016    Fixation     Waldo      wal014  1614108  473.22   \n1            009      016    Fixation     Waldo      wal014  1614110  473.30   \n2            009      016    Fixation     Waldo      wal014  1614112  473.38   \n3            009      016    Fixation     Waldo      wal014  1614114  473.30   \n4            009      016    Fixation     Waldo      wal014  1614116  474.82   \n\n     LYpix   RXpix    RYpix  LXhref  LYhref  RXhref  RYhref   LP   RP  \n0  317.625  468.18  314.700  -802.0  2960.0  -858.0  2931.0  722  903  \n1  317.775  467.78  314.775  -801.0  2962.0  -862.0  2932.0  720  904  \n2  317.925  467.46  314.925  -800.0  2963.0  -866.0  2934.0  718  905  \n3  319.125  465.14  315.750  -800.0  2977.0  -889.0  2945.0  720  910  \n4  317.550  465.46  316.800  -785.0  2958.0  -886.0  2957.0  723  908  ",
      "text/html": "<div>\n<style scoped>\n    .dataframe tbody tr th:only-of-type {\n        vertical-align: middle;\n    }\n\n    .dataframe tbody tr th {\n        vertical-align: top;\n    }\n\n    .dataframe thead th {\n        text-align: right;\n    }\n</style>\n<table border=\"1\" class=\"dataframe\">\n  <thead>\n    <tr style=\"text-align: right;\">\n      <th></th>\n      <th>participant_id</th>\n      <th>trial_id</th>\n      <th>fv_fixation</th>\n      <th>task_type</th>\n      <th>stimulus_id</th>\n      <th>Time</th>\n      <th>LXpix</th>\n      <th>LYpix</th>\n      <th>RXpix</th>\n      <th>RYpix</th>\n      <th>LXhref</th>\n      <th>LYhref</th>\n      <th>RXhref</th>\n      <th>RYhref</th>\n      <th>LP</th>\n      <th>RP</th>\n    </tr>\n  </thead>\n  <tbody>\n    <tr>\n      <th>0</th>\n      <td>009</td>\n      <td>016</td>\n      <td>Fixation</td>\n      <td>Waldo</td>\n      <td>wal014</td>\n      <td>1614108</td>\n      <td>473.22</td>\n      <td>317.625</td>\n      <td>468.18</td>\n      <td>314.700</td>\n      <td>-802.0</td>\n      <td>2960.0</td>\n      <td>-858.0</td>\n      <td>2931.0</td>\n      <td>722</td>\n      <td>903</td>\n    </tr>\n    <tr>\n      <th>1</th>\n      <td>009</td>\n      <td>016</td>\n      <td>Fixation</td>\n      <td>Waldo</td>\n      <td>wal014</td>\n      <td>1614110</td>\n      <td>473.30</td>\n      <td>317.775</td>\n      <td>467.78</td>\n      <td>314.775</td>\n      <td>-801.0</td>\n      <td>2962.0</td>\n      <td>-862.0</td>\n      <td>2932.0</td>\n      <td>720</td>\n      <td>904</td>\n    </tr>\n    <tr>\n      <th>2</th>\n      <td>009</td>\n      <td>016</td>\n      <td>Fixation</td>\n      <td>Waldo</td>\n      <td>wal014</td>\n      <td>1614112</td>\n      <td>473.38</td>\n      <td>317.925</td>\n      <td>467.46</td>\n      <td>314.925</td>\n      <td>-800.0</td>\n      <td>2963.0</td>\n      <td>-866.0</td>\n      <td>2934.0</td>\n      <td>718</td>\n      <td>905</td>\n    </tr>\n    <tr>\n      <th>3</th>\n      <td>009</td>\n      <td>016</td>\n      <td>Fixation</td>\n      <td>Waldo</td>\n      <td>wal014</td>\n      <td>1614114</td>\n      <td>473.30</td>\n      <td>319.125</td>\n      <td>465.14</td>\n      <td>315.750</td>\n      <td>-800.0</td>\n      <td>2977.0</td>\n      <td>-889.0</td>\n      <td>2945.0</td>\n      <td>720</td>\n      <td>910</td>\n    </tr>\n    <tr>\n      <th>4</th>\n      <td>009</td>\n      <td>016</td>\n      <td>Fixation</td>\n      <td>Waldo</td>\n      <td>wal014</td>\n      <td>1614116</td>\n      <td>474.82</td>\n      <td>317.550</td>\n      <td>465.46</td>\n      <td>316.800</td>\n      <td>-785.0</td>\n      <td>2958.0</td>\n      <td>-886.0</td>\n      <td>2957.0</td>\n      <td>723</td>\n      <td>908</td>\n    </tr>\n  </tbody>\n</table>\n</div>"
     },
     "execution_count": 6,
     "metadata": {},
     "output_type": "execute_result"
    }
   ],
   "source": [
    "df_fix_waldo.head()"
   ],
   "metadata": {
    "collapsed": false
   }
  },
  {
   "cell_type": "markdown",
   "source": [
    "## Hypotheses\n",
    "\n",
    "In this section, state 2-3 hypotheses. For example, we might want to test, whether fixation duration would differ between Freeviewing and Where is Waldo. The hypothesis would be therefore stated as\n",
    "\n",
    "1. There will be differences in fixation duration for participant 9 between Puzzle subtask and Where is Waldo subtask\n",
    "\n",
    "Of course, the hypotheses should be slightly more complex (we want to do similar test for all participants, not just 1).\n"
   ],
   "metadata": {
    "collapsed": false
   }
  },
  {
   "cell_type": "markdown",
   "source": [
    "## Data manipulation\n",
    "\n",
    "This is an optional section, in which you could describe, what did you do with the data to obtain given format. In our example, we just need to merge the data. Additionally, we want to detect fixations"
   ],
   "metadata": {
    "collapsed": false
   }
  },
  {
   "cell_type": "code",
   "execution_count": 7,
   "outputs": [
    {
     "name": "stderr",
     "output_type": "stream",
     "text": [
      "Computed velocity exceeds threshold. Inappropriate filter setup? [1014.6 > 1000.0 deg/s]\n",
      "Computed velocity exceeds threshold. Inappropriate filter setup? [1100.5 > 1000.0 deg/s]\n",
      "Computed velocity exceeds threshold. Inappropriate filter setup? [1236.0 > 1000.0 deg/s]\n",
      "Computed velocity exceeds threshold. Inappropriate filter setup? [1186.9 > 1000.0 deg/s]\n",
      "Computed velocity exceeds threshold. Inappropriate filter setup? [1126.6 > 1000.0 deg/s]\n",
      "Computed velocity exceeds threshold. Inappropriate filter setup? [1230.8 > 1000.0 deg/s]\n",
      "Computed velocity exceeds threshold. Inappropriate filter setup? [1128.2 > 1000.0 deg/s]\n",
      "Computed velocity exceeds threshold. Inappropriate filter setup? [1089.6 > 1000.0 deg/s]\n",
      "Computed velocity exceeds threshold. Inappropriate filter setup? [1021.8 > 1000.0 deg/s]\n",
      "Computed velocity exceeds threshold. Inappropriate filter setup? [1048.3 > 1000.0 deg/s]\n"
     ]
    }
   ],
   "source": [
    "from etra import detect\n",
    "\n",
    "df_hyp1_samples = pd.concat([df_fix_puzzle, df_fix_waldo]).rename(\n",
    "    {\"Time\": \"time\", \"trial_id\": \"trial\", \"LXpix\": \"x\", \"LYpix\": \"y\"}, axis=1)\n",
    "df_hyp1_samples[\"time\"] = df_hyp1_samples.groupby([\"participant_id\", \"trial\"])[\"time\"].transform(lambda x: x - x.min())\n",
    "\n",
    "df_hyp1_fix = []\n",
    "groups = df_hyp1_samples.groupby([\"participant_id\", \"trial\"])\n",
    "for (pid, trial), group in groups:\n",
    "    tmp = detect(group)\n",
    "    tmp = tmp[tmp[\"label\"] == \"FIXA\"]\n",
    "    tmp[\"participant_id\"] = pid\n",
    "    tmp[\"trial\"] = trial\n",
    "    df_hyp1_fix.append(tmp)\n",
    "\n",
    "df_hyp1_fix = pd.concat(df_hyp1_fix)\n",
    "df_hyp1_fix = df_hyp1_samples[\n",
    "    [\"participant_id\", \"trial\", \"fv_fixation\", \"task_type\", \"stimulus_id\"]].drop_duplicates().merge(df_hyp1_fix, on=[\n",
    "    \"participant_id\", \"trial\"], how=\"left\")"
   ],
   "metadata": {
    "collapsed": false
   }
  },
  {
   "cell_type": "code",
   "execution_count": 8,
   "outputs": [
    {
     "data": {
      "text/plain": "  participant_id trial fv_fixation task_type stimulus_id label  start_time  \\\n0            009   012    Fixation    Puzzle      puz013  FIXA           0   \n1            009   012    Fixation    Puzzle      puz013  FIXA         214   \n2            009   012    Fixation    Puzzle      puz013  FIXA         540   \n3            009   012    Fixation    Puzzle      puz013  FIXA         716   \n4            009   012    Fixation    Puzzle      puz013  FIXA        1068   \n\n   end_time     start_x     start_y       end_x       end_y       amp  \\\n0       200  465.155030  302.178636  463.539654  305.027922  0.121198   \n1       300  461.330476  311.542208  466.051515  312.529221  0.178471   \n2       706  472.500346  316.706169  473.041991  315.633117  0.044478   \n3      1044  474.261732  313.289935  475.944156  309.456494  0.154910   \n4      1144  486.907273  310.399026  479.096710  308.389610  0.298428   \n\n    peak_vel   med_vel   avg_vel  \n0  34.135209  4.664135  5.443223  \n1  23.752175  5.481840  7.431015  \n2  20.222857  5.835417  6.495998  \n3  17.225811  4.688046  5.505024  \n4  17.562363  7.446251  7.693272  ",
      "text/html": "<div>\n<style scoped>\n    .dataframe tbody tr th:only-of-type {\n        vertical-align: middle;\n    }\n\n    .dataframe tbody tr th {\n        vertical-align: top;\n    }\n\n    .dataframe thead th {\n        text-align: right;\n    }\n</style>\n<table border=\"1\" class=\"dataframe\">\n  <thead>\n    <tr style=\"text-align: right;\">\n      <th></th>\n      <th>participant_id</th>\n      <th>trial</th>\n      <th>fv_fixation</th>\n      <th>task_type</th>\n      <th>stimulus_id</th>\n      <th>label</th>\n      <th>start_time</th>\n      <th>end_time</th>\n      <th>start_x</th>\n      <th>start_y</th>\n      <th>end_x</th>\n      <th>end_y</th>\n      <th>amp</th>\n      <th>peak_vel</th>\n      <th>med_vel</th>\n      <th>avg_vel</th>\n    </tr>\n  </thead>\n  <tbody>\n    <tr>\n      <th>0</th>\n      <td>009</td>\n      <td>012</td>\n      <td>Fixation</td>\n      <td>Puzzle</td>\n      <td>puz013</td>\n      <td>FIXA</td>\n      <td>0</td>\n      <td>200</td>\n      <td>465.155030</td>\n      <td>302.178636</td>\n      <td>463.539654</td>\n      <td>305.027922</td>\n      <td>0.121198</td>\n      <td>34.135209</td>\n      <td>4.664135</td>\n      <td>5.443223</td>\n    </tr>\n    <tr>\n      <th>1</th>\n      <td>009</td>\n      <td>012</td>\n      <td>Fixation</td>\n      <td>Puzzle</td>\n      <td>puz013</td>\n      <td>FIXA</td>\n      <td>214</td>\n      <td>300</td>\n      <td>461.330476</td>\n      <td>311.542208</td>\n      <td>466.051515</td>\n      <td>312.529221</td>\n      <td>0.178471</td>\n      <td>23.752175</td>\n      <td>5.481840</td>\n      <td>7.431015</td>\n    </tr>\n    <tr>\n      <th>2</th>\n      <td>009</td>\n      <td>012</td>\n      <td>Fixation</td>\n      <td>Puzzle</td>\n      <td>puz013</td>\n      <td>FIXA</td>\n      <td>540</td>\n      <td>706</td>\n      <td>472.500346</td>\n      <td>316.706169</td>\n      <td>473.041991</td>\n      <td>315.633117</td>\n      <td>0.044478</td>\n      <td>20.222857</td>\n      <td>5.835417</td>\n      <td>6.495998</td>\n    </tr>\n    <tr>\n      <th>3</th>\n      <td>009</td>\n      <td>012</td>\n      <td>Fixation</td>\n      <td>Puzzle</td>\n      <td>puz013</td>\n      <td>FIXA</td>\n      <td>716</td>\n      <td>1044</td>\n      <td>474.261732</td>\n      <td>313.289935</td>\n      <td>475.944156</td>\n      <td>309.456494</td>\n      <td>0.154910</td>\n      <td>17.225811</td>\n      <td>4.688046</td>\n      <td>5.505024</td>\n    </tr>\n    <tr>\n      <th>4</th>\n      <td>009</td>\n      <td>012</td>\n      <td>Fixation</td>\n      <td>Puzzle</td>\n      <td>puz013</td>\n      <td>FIXA</td>\n      <td>1068</td>\n      <td>1144</td>\n      <td>486.907273</td>\n      <td>310.399026</td>\n      <td>479.096710</td>\n      <td>308.389610</td>\n      <td>0.298428</td>\n      <td>17.562363</td>\n      <td>7.446251</td>\n      <td>7.693272</td>\n    </tr>\n  </tbody>\n</table>\n</div>"
     },
     "execution_count": 8,
     "metadata": {},
     "output_type": "execute_result"
    }
   ],
   "source": [
    "df_hyp1_fix.head()"
   ],
   "metadata": {
    "collapsed": false
   }
  },
  {
   "cell_type": "markdown",
   "source": [
    "## Results\n",
    "\n",
    "In this section, describe statistical test that you used for testing your hypotheses. In general, the selection of statistical test depends on the type of variable.\n",
    "\n",
    "There are following types of variables:\n",
    "\n",
    "* Continuous - when the variable behaves as number. All fixation durations, pupil size, time are continuous variables\n",
    "* Ordinal - variables do not behave as numbers, but you can order them. Grades in school are typical example. You can't say how many times is 1 better than 2, but you can say that 1 is better grade than 2. There are no nominal variables in this dataset, so I added this description only for completeness.\n",
    "* Nominal - when variables are qualitative different. Type of task is an example of nominal variable\n",
    "\n",
    "In the case of two variables, there are following options\n",
    "* both variables continuous - regression or correlation (in R function `lm()` or `cor`/`cor.test` )\n",
    "* both variables nominal - contingency tables a chi square test\n",
    "* one variable nominal, other continuous - this is very common, this type is used, when we compare differences two condition - in this case, we use t.tests\n",
    "\n",
    "There are three main types of t.tests\n",
    "\n",
    "* Independent t-test - both groups contain independent data points (each data point is a different entity)\n",
    "* Paired t-test - data points are linked to each other. This is typical example, when we measure same subjects multiple times\n",
    "* One sample t-test - we are testing the sample against some theoretically interesting number\n",
    "\n",
    "In case of more than two variables, we need to use ANOVAs. Usually, one variable will be dependent (outcome, the one which levels interest us) and others will be independent (predictors, the one, that we manipulate).\n",
    "* For more than two groups, we use between-subject ANOVA\n",
    "* For more than two measurement of same subject, we use within-subject ANOVA\n",
    "* We can combine multiple between- and within-subject factors into mixed ANOVA\n",
    "\n",
    "In our case, the simplest way how to test that is to aggregate data per each trial and use t-tests"
   ],
   "metadata": {
    "collapsed": false
   }
  },
  {
   "cell_type": "markdown",
   "source": [
    "### using t-tests\n",
    "\n",
    "Because we have multiple data points from each participant, we can first aggregate data for each trial"
   ],
   "metadata": {
    "collapsed": false
   }
  },
  {
   "cell_type": "code",
   "execution_count": 9,
   "outputs": [
    {
     "data": {
      "text/plain": "   task_type trial     avg_dur\n0     Puzzle   012  733.491525\n1     Puzzle   022  605.400000\n2     Puzzle   023  487.146067\n3     Puzzle   032  619.742857\n4     Puzzle   036  425.364583\n5     Puzzle   043  641.292308\n6     Puzzle   052  587.746479\n7     Puzzle   061  666.687500\n8     Puzzle   068  407.873684\n9     Puzzle   079  461.662921\n10    Puzzle   084  415.903226\n11    Puzzle   086  460.321429\n12    Puzzle   095  432.808511\n13    Puzzle   097  559.864865\n14    Puzzle   117  508.130952\n15     Waldo   016  703.934426\n16     Waldo   017  542.384615\n17     Waldo   018  570.236842\n18     Waldo   020  688.419355\n19     Waldo   038  598.942857\n20     Waldo   055  637.492537\n21     Waldo   059  485.139535\n22     Waldo   067  521.839506\n23     Waldo   075  555.040541\n24     Waldo   076  527.111111\n25     Waldo   090  423.197917\n26     Waldo   091  428.893617\n27     Waldo   103  490.530120\n28     Waldo   111  537.556962\n29     Waldo   113  507.060241",
      "text/html": "<div>\n<style scoped>\n    .dataframe tbody tr th:only-of-type {\n        vertical-align: middle;\n    }\n\n    .dataframe tbody tr th {\n        vertical-align: top;\n    }\n\n    .dataframe thead th {\n        text-align: right;\n    }\n</style>\n<table border=\"1\" class=\"dataframe\">\n  <thead>\n    <tr style=\"text-align: right;\">\n      <th></th>\n      <th>task_type</th>\n      <th>trial</th>\n      <th>avg_dur</th>\n    </tr>\n  </thead>\n  <tbody>\n    <tr>\n      <th>0</th>\n      <td>Puzzle</td>\n      <td>012</td>\n      <td>733.491525</td>\n    </tr>\n    <tr>\n      <th>1</th>\n      <td>Puzzle</td>\n      <td>022</td>\n      <td>605.400000</td>\n    </tr>\n    <tr>\n      <th>2</th>\n      <td>Puzzle</td>\n      <td>023</td>\n      <td>487.146067</td>\n    </tr>\n    <tr>\n      <th>3</th>\n      <td>Puzzle</td>\n      <td>032</td>\n      <td>619.742857</td>\n    </tr>\n    <tr>\n      <th>4</th>\n      <td>Puzzle</td>\n      <td>036</td>\n      <td>425.364583</td>\n    </tr>\n    <tr>\n      <th>5</th>\n      <td>Puzzle</td>\n      <td>043</td>\n      <td>641.292308</td>\n    </tr>\n    <tr>\n      <th>6</th>\n      <td>Puzzle</td>\n      <td>052</td>\n      <td>587.746479</td>\n    </tr>\n    <tr>\n      <th>7</th>\n      <td>Puzzle</td>\n      <td>061</td>\n      <td>666.687500</td>\n    </tr>\n    <tr>\n      <th>8</th>\n      <td>Puzzle</td>\n      <td>068</td>\n      <td>407.873684</td>\n    </tr>\n    <tr>\n      <th>9</th>\n      <td>Puzzle</td>\n      <td>079</td>\n      <td>461.662921</td>\n    </tr>\n    <tr>\n      <th>10</th>\n      <td>Puzzle</td>\n      <td>084</td>\n      <td>415.903226</td>\n    </tr>\n    <tr>\n      <th>11</th>\n      <td>Puzzle</td>\n      <td>086</td>\n      <td>460.321429</td>\n    </tr>\n    <tr>\n      <th>12</th>\n      <td>Puzzle</td>\n      <td>095</td>\n      <td>432.808511</td>\n    </tr>\n    <tr>\n      <th>13</th>\n      <td>Puzzle</td>\n      <td>097</td>\n      <td>559.864865</td>\n    </tr>\n    <tr>\n      <th>14</th>\n      <td>Puzzle</td>\n      <td>117</td>\n      <td>508.130952</td>\n    </tr>\n    <tr>\n      <th>15</th>\n      <td>Waldo</td>\n      <td>016</td>\n      <td>703.934426</td>\n    </tr>\n    <tr>\n      <th>16</th>\n      <td>Waldo</td>\n      <td>017</td>\n      <td>542.384615</td>\n    </tr>\n    <tr>\n      <th>17</th>\n      <td>Waldo</td>\n      <td>018</td>\n      <td>570.236842</td>\n    </tr>\n    <tr>\n      <th>18</th>\n      <td>Waldo</td>\n      <td>020</td>\n      <td>688.419355</td>\n    </tr>\n    <tr>\n      <th>19</th>\n      <td>Waldo</td>\n      <td>038</td>\n      <td>598.942857</td>\n    </tr>\n    <tr>\n      <th>20</th>\n      <td>Waldo</td>\n      <td>055</td>\n      <td>637.492537</td>\n    </tr>\n    <tr>\n      <th>21</th>\n      <td>Waldo</td>\n      <td>059</td>\n      <td>485.139535</td>\n    </tr>\n    <tr>\n      <th>22</th>\n      <td>Waldo</td>\n      <td>067</td>\n      <td>521.839506</td>\n    </tr>\n    <tr>\n      <th>23</th>\n      <td>Waldo</td>\n      <td>075</td>\n      <td>555.040541</td>\n    </tr>\n    <tr>\n      <th>24</th>\n      <td>Waldo</td>\n      <td>076</td>\n      <td>527.111111</td>\n    </tr>\n    <tr>\n      <th>25</th>\n      <td>Waldo</td>\n      <td>090</td>\n      <td>423.197917</td>\n    </tr>\n    <tr>\n      <th>26</th>\n      <td>Waldo</td>\n      <td>091</td>\n      <td>428.893617</td>\n    </tr>\n    <tr>\n      <th>27</th>\n      <td>Waldo</td>\n      <td>103</td>\n      <td>490.530120</td>\n    </tr>\n    <tr>\n      <th>28</th>\n      <td>Waldo</td>\n      <td>111</td>\n      <td>537.556962</td>\n    </tr>\n    <tr>\n      <th>29</th>\n      <td>Waldo</td>\n      <td>113</td>\n      <td>507.060241</td>\n    </tr>\n  </tbody>\n</table>\n</div>"
     },
     "execution_count": 9,
     "metadata": {},
     "output_type": "execute_result"
    }
   ],
   "source": [
    "avg_durations = df_hyp1_fix.assign(dur=lambda x: x.end_time - x.start_time)\\\n",
    "    .groupby([\"task_type\", \"trial\"])\\\n",
    "    .agg(avg_dur=(\"dur\", \"mean\"))\\\n",
    "    .reset_index()\n",
    "avg_durations"
   ],
   "metadata": {
    "collapsed": false
   }
  },
  {
   "cell_type": "code",
   "execution_count": 10,
   "outputs": [],
   "source": [
    "ttest_result = stats.ttest_rel(\n",
    "    avg_durations[avg_durations.task_type == \"Puzzle\"].avg_dur,\n",
    "    avg_durations[avg_durations.task_type == \"Waldo\"].avg_dur,\n",
    ")"
   ],
   "metadata": {
    "collapsed": false
   }
  },
  {
   "cell_type": "code",
   "execution_count": 11,
   "outputs": [
    {
     "data": {
      "text/plain": "<IPython.core.display.Markdown object>",
      "text/markdown": "\nResults show that there is no difference between Fixation duration in Where is Waldo and Puzzle (pvalue=0.554)"
     },
     "execution_count": 11,
     "metadata": {},
     "output_type": "execute_result"
    }
   ],
   "source": [
    "%%jinja markdown\n",
    "\n",
    "Results show that there is no difference between Fixation duration in Where is Waldo and Puzzle (pvalue={{\"{:.3}\".format(ttest_result.pvalue)}})"
   ],
   "metadata": {
    "collapsed": false
   }
  }
 ],
 "metadata": {
  "kernelspec": {
   "display_name": "Python 3.10.8 64-bit",
   "language": "python",
   "name": "python3"
  },
  "language_info": {
   "codemirror_mode": {
    "name": "ipython",
    "version": 3
   },
   "file_extension": ".py",
   "mimetype": "text/x-python",
   "name": "python",
   "nbconvert_exporter": "python",
   "pygments_lexer": "ipython3",
   "version": "3.10.8"
  },
  "orig_nbformat": 4,
  "vscode": {
   "interpreter": {
    "hash": "e7370f93d1d0cde622a1f8e1c04877d8463912d04d973331ad4851f04de6915a"
   }
  }
 },
 "nbformat": 4,
 "nbformat_minor": 2
}
